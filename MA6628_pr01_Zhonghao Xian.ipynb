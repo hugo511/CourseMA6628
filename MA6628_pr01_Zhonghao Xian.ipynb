{
 "cells": [
  {
   "cell_type": "markdown",
   "metadata": {
    "collapsed": false
   },
   "source": [
    "## This is the Jupyternotebook for assignment pr01."
   ]
  },
  {
   "cell_type": "markdown",
   "metadata": {
    "collapsed": false
   },
   "source": [
    "define a function to judge whether a number is a prime number"
   ]
  },
  {
   "cell_type": "code",
   "execution_count": 13,
   "metadata": {
    "collapsed": false
   },
   "outputs": [
   ],
   "source": [
    "import math\n",
    "import numpy as np\n",
    "\n",
    "\n",
    "def judge_pri(N):\n",
    "    st = math.floor(math.sqrt(N))\n",
    "    i = 1\n",
    "    while i <= st:\n",
    "        if N % i == 0 and i != 1:\n",
    "            return False\n",
    "            break\n",
    "        else:\n",
    "            i += 1\n",
    "    return True"
   ]
  },
  {
   "cell_type": "markdown",
   "metadata": {
    "collapsed": false
   },
   "source": [
    "define a function to find all the twin prime in a given range"
   ]
  },
  {
   "cell_type": "code",
   "execution_count": 14,
   "metadata": {
    "collapsed": false
   },
   "outputs": [
   ],
   "source": [
    "def find_twpri(data):\n",
    "    j = 0\n",
    "    twlist = []\n",
    "    while j in range(0, len(data)):\n",
    "        if data[j] == True and data[j + 2] == True:\n",
    "            twlist.append((j + 1, j + 3))\n",
    "            j += 1\n",
    "        else:\n",
    "            j += 1\n",
    "    return (twlist)"
   ]
  },
  {
   "cell_type": "markdown",
   "metadata": {
    "collapsed": false
   },
   "source": [
    "Find the twin prime and print the result"
   ]
  },
  {
   "cell_type": "code",
   "execution_count": 15,
   "metadata": {
    "collapsed": false
   },
   "outputs": [
    {
     "name": "stdout",
     "output_type": "stream",
     "text": [
      "The number of twin prime between 1000 and one million is 8161\n",
      "the largest twin prime in this range is (999959, 999961)\n"
     ]
    }
   ],
   "source": [
    "result = np.zeros(1000000, dtype=np.bool, order='c')\n",
    "for i in range(100, len(result)):\n",
    "    if judge_pri(i + 1):\n",
    "        result[i] = True\n",
    "li = find_twpri(result)\n",
    "print ('The number of twin prime between 1000 and one million is %d'%len(li))\n",
    "print('the largest twin prime in this range is {0}'.format(li[-1]))"
   ]
  },
  {
   "cell_type": "code",
   "execution_count": 0,
   "metadata": {
    "collapsed": false
   },
   "outputs": [
   ],
   "source": [
   ]
  }
 ],
 "metadata": {
  "kernelspec": {
   "display_name": "Python 3 (Anaconda 5)",
   "language": "python",
   "name": "anaconda5"
  }
 },
 "nbformat": 4,
 "nbformat_minor": 0
}