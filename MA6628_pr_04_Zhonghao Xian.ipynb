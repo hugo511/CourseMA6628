{
 "cells": [
  {
   "cell_type": "markdown",
   "metadata": {
    "collapsed": false
   },
   "source": [
    "# Pr_04"
   ]
  },
  {
   "cell_type": "markdown",
   "metadata": {
    "collapsed": false
   },
   "source": [
    "Consider the following data sets:\n",
    "- Today : Sep 27, 2018\n",
    "- Spot price : 290.68\n",
    "- Maturity : Dec 31, 2018\n",
    "- Strike : 288\n",
    "- rate : 0.02 (from https://www.treasury.gov/resource-center/data-chart-center/interest-rates/Pages/TextView.aspx?data=yield)\n",
    "- Market call price : 9.23\n",
    "    \n",
    "**Todo**\n",
    "1. If the volatility is $30\\%$, what is the difference between BSM call price and market call price?\n",
    "2. Compute the implied volatility."
   ]
  },
  {
   "cell_type": "markdown",
   "metadata": {
    "collapsed": false
   },
   "source": [
    "**Question1**"
   ]
  },
  {
   "cell_type": "code",
   "execution_count": 7,
   "metadata": {
    "collapsed": false
   },
   "outputs": [
    {
     "name": "stdout",
     "output_type": "stream",
     "text": [
      "The difference between BSM call price and market call price is 10.539937820552115\n"
     ]
    }
   ],
   "source": [
    "import math\n",
    "import scipy.stats as ss\n",
    "\n",
    "def BSM_call_price(st,r,sigma,t,T,K):\n",
    "    d1=(math.log(st/K)+(r+0.5*sigma**2) * (T-t)) / (sigma*math.sqrt(T-t))\n",
    "    d2=d1-sigma*math.sqrt(T-t)\n",
    "    call_price = st* ss.norm.cdf(d1) - K*math.exp(-r*(T-t))*ss.norm.cdf(d2)\n",
    "    return(call_price)\n",
    "\n",
    "import datetime\n",
    "T=(datetime.date(2018,12,31)-datetime.date(2018,9,27))/datetime.timedelta(days=1)/365\n",
    "t = 0\n",
    "r = 0.02\n",
    "s0 = 290.68\n",
    "K = 288\n",
    "sigma = 0.3\n",
    "market_price=9.23\n",
    "call_price2=BSM_call_price(s0,r,sigma,t,T,K) \n",
    "spread=call_price2 - market_price \n",
    "print('The difference between BSM call price and market call price is',spread)\n"
   ]
  },
  {
   "cell_type": "markdown",
   "metadata": {
    "collapsed": false
   },
   "source": [
    "**Question 2**"
   ]
  },
  {
   "cell_type": "markdown",
   "metadata": {
    "collapsed": false
   },
   "source": [
    "use python's optimize package"
   ]
  },
  {
   "cell_type": "code",
   "execution_count": 8,
   "metadata": {
    "collapsed": false
   },
   "outputs": [
    {
     "name": "stdout",
     "output_type": "stream",
     "text": [
      "Optimization terminated successfully.\n",
      "         Current function value: 0.000000\n",
      "         Iterations: 15\n",
      "         Function evaluations: 30\n",
      "The implied votatility is  0.11824218749999948\n"
     ]
    }
   ],
   "source": [
    "from scipy import optimize as opt\n",
    "def implied_vo(st,r,T,K,market_price):\n",
    "    sigma_init = 0.3\n",
    "    sigma_impli=lambda sigma_init:(BSM_call_price(st,r,sigma_init,0,T,K) - market_price)**2\n",
    "    result= opt.fmin(sigma_impli,sigma_init)\n",
    "    return(result[0])\n",
    "implied_sigma=implied_vo(s0,r,T,K,market_price)\n",
    "print('The implied votatility is ',implied_sigma)"
   ]
  }
 ],
 "metadata": {
  "kernelspec": {
   "display_name": "Python 3 (Anaconda 5)",
   "language": "python",
   "name": "anaconda5"
  }
 },
 "nbformat": 4,
 "nbformat_minor": 0
}