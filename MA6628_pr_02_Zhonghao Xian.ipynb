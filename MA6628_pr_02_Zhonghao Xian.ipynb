{
 "cells": [
  {
   "cell_type": "markdown",
   "metadata": {
    "collapsed": false
   },
   "source": [
    "# Pr 02"
   ]
  },
  {
   "cell_type": "markdown",
   "metadata": {
    "collapsed": false
   },
   "source": [
    "From BS model, we can assume the stock price follows the lognormal distribution, which can be express as: $$ln\\frac{S_t}{S_0}  \\sim \\mathcal N((r-\\frac{1}{2}\\sigma^2)T,\\sigma^2T)$$\n",
    "with the following parameters:\n",
    "* $S_0$: The initial stock price\n",
    "* $S_t$: The initial stock price at t\n",
    "* $r$: The Interest rate\n",
    "* $\\sigma$: votatility \n",
    "\n",
    "So we can get the Call option price and Put option price from $C_0 = e^{-rT}\\mathbb E[(S_T-K)^+]$ and $P_0 = e^{-rT}\\mathbb E[(S_T-K)^-]$. Replace the formula with the stock price giving from BS model, we can get the option price:$$C_0 = S_0\\Phi(d_1) - K e^{-rT}\\Phi(d_2),$$\n",
    "$$P_0 =  K e^{-rT}\\Phi(-d_2)-S_0\\Phi(-d_1),$$\n",
    "where \n",
    "$$d_1= \\frac{(r + \\frac 1 2 \\sigma^2) T - \\ln \\frac{K}{S_0}}{\\sigma \\sqrt T},$$\n",
    "$$d_2 = \\frac{(r - \\frac 1 2 \\sigma^2) T - \\ln \\frac{K}{S_0}}{\\sigma \\sqrt T},$$\n",
    "\n",
    "**For Asian option,** Geometric asian call option with maturity $T$ and strike $K$ has its pay off as$$C(T) = (A(T) - K)^+,$$\n",
    "where $0 \\le t_1 < t_2, \\ldots, < t_n = T$ and$$A(T) = (S(t_1)S(t_2) \\ldots S(t_n))^{1/n}.$$\n",
    "From BS model ,we can show that A(T) is a lognormal distribution in the following form:\n",
    "$$A(T) = S_0exp\\{(\\hat r - \\frac 1 2 \\hat \\sigma ^2)\\}+\\hat \\sigma \\sqrt T \\hat Z\\}.$$\n",
    "And $\\hat Z$ is a standard normal random variable,$\\hat \\sigma$ is\n",
    "$$\\hat \\sigma = \\frac{\\sigma}{n} \\sqrt{\\frac{(n+1)(2n+1)}{6}}$$\n",
    "$\\hat r$ is\n",
    "$$\\hat r = \\frac 1 2 \\hat \\sigma^2 + \\frac{n+1}{2n}(r - \\frac 1 2 \\sigma^2).$$\n",
    "Then, by fundamental asset pricing theory, we have GAC price by :\n",
    "$$\\Pi_0^c = e^{(\\hat r - r)T} \\mathbb E [ e^{-\\hat r T} (A_T - K)^+]=e^{(\\hat r - r)T}*BSM.Call(S_t,\\hat r,\\hat \\sigma,T,K).$$"
   ]
  },
  {
   "cell_type": "markdown",
   "metadata": {
    "collapsed": false
   },
   "source": [
    "**First we can define a function to find the price under BSM model given some conditions (st , r , sigma , t , T , K) :** "
   ]
  },
  {
   "cell_type": "code",
   "execution_count": 2,
   "metadata": {
    "collapsed": false
   },
   "outputs": [
   ],
   "source": [
    "import math\n",
    "import scipy.stats as ss\n",
    "\n",
    "def BSM_call_price(st,r,sigma,t,T,K):\n",
    "    d1=(math.log(st/K)+(r+0.5*sigma**2) * (T-t)) / (sigma*math.sqrt(T-t))\n",
    "    d2=d1-sigma*math.sqrt(T-t)\n",
    "    call_price = st* ss.norm.cdf(d1) - K*math.exp(-r*(T-t))*ss.norm.cdf(d2)\n",
    "    return(call_price)"
   ]
  },
  {
   "cell_type": "code",
   "execution_count": 6,
   "metadata": {
    "collapsed": false
   },
   "outputs": [
   ],
   "source": [
    "def Asian_call_price(st,r,sigma,t,n,T,K):\n",
    "    sigma_hat = (sigma/n) * math.sqrt((n+1)*(2*n+1)/6)\n",
    "    sigma_hat = sigma/n * math.sqrt((n+1) * (2*n+1) /6)\n",
    "    r_hat = 0.5*sigma_hat**2 + ((n+1) / (2*n))* (r - 0.5*(sigma**2))\n",
    "    asian_call = math.exp((r_hat-r)*T) * BSM_call_price(st,r_hat,sigma_hat,t,T,K)\n",
    "    return(asian_call)"
   ]
  },
  {
   "cell_type": "markdown",
   "metadata": {
    "collapsed": false
   },
   "source": [
    "**Solution for Pr02**,\n",
    "find the BSM price with the given parameters"
   ]
  },
  {
   "cell_type": "code",
   "execution_count": 13,
   "metadata": {
    "collapsed": false
   },
   "outputs": [
   ],
   "source": [
    "s0 = 100.0 #initial stock price,\n",
    "K = 110.0 #strike,\n",
    "r=0.0475 #interest rate,\n",
    "sigma = 0.20 #vol,T = 1. #maturity,\n",
    "#Otype='C' #Call type,\n",
    "n = 4 #number of periods,\n",
    "T=1\n",
    "t=0"
   ]
  },
  {
   "cell_type": "code",
   "execution_count": 17,
   "metadata": {
    "collapsed": false
   },
   "outputs": [
    {
     "name": "stdout",
     "output_type": "stream",
     "text": [
      "the asian call price is  2.7329867250697175\n"
     ]
    }
   ],
   "source": [
    "bsm=Asian_call_price(s0,r,sigma,t,n,T,K)\n",
    "print('the asian call price is ',bsm)"
   ]
  }
 ],
 "metadata": {
  "kernelspec": {
   "display_name": "Python 3 (Anaconda 5)",
   "language": "python",
   "name": "anaconda5"
  },
  "language_info": {
   "codemirror_mode": {
    "name": "ipython",
    "version": 3
   },
   "file_extension": ".py",
   "mimetype": "text/x-python",
   "name": "python",
   "nbconvert_exporter": "python",
   "pygments_lexer": "ipython3",
   "version": "3.6.5"
  }
 },
 "nbformat": 4,
 "nbformat_minor": 0
}